{
 "cells": [
  {
   "cell_type": "code",
   "execution_count": 2,
   "id": "88fca787",
   "metadata": {},
   "outputs": [],
   "source": [
    "import sqlite3\n",
    "import pandas as pd\n",
    "\n",
    "# Connect to the Chinook database\n",
    "conn = sqlite3.connect(\"Chinook_Sqlite.sqlite\")\n",
    "\n",
    "\n",
    "\n"
   ]
  },
  {
   "cell_type": "markdown",
   "id": "6e5bad7a",
   "metadata": {},
   "source": [
    "# 1. Data Familiarization"
   ]
  },
  {
   "cell_type": "markdown",
   "id": "d3be9113",
   "metadata": {},
   "source": [
    "## Q1: Write an SQL query to list all table names in the database."
   ]
  },
  {
   "cell_type": "code",
   "execution_count": null,
   "id": "6da3a5e3",
   "metadata": {},
   "outputs": [
    {
     "name": "stdout",
     "output_type": "stream",
     "text": [
      "             name\n",
      "0           Album\n",
      "1          Artist\n",
      "2        Customer\n",
      "3        Employee\n",
      "4           Genre\n",
      "5         Invoice\n",
      "6     InvoiceLine\n",
      "7       MediaType\n",
      "8        Playlist\n",
      "9   PlaylistTrack\n",
      "10          Track\n"
     ]
    }
   ],
   "source": [
    "query = \"SELECT name FROM sqlite_master WHERE type='table';\"\n",
    "df = pd.read_sql_query(query, conn)\n",
    "print(df)"
   ]
  },
  {
   "cell_type": "markdown",
   "id": "e4bc4e16",
   "metadata": {},
   "source": [
    "## Q2: Display the first 5 rows of the Customer table."
   ]
  },
  {
   "cell_type": "code",
   "execution_count": 4,
   "id": "1f1174ae",
   "metadata": {},
   "outputs": [
    {
     "name": "stdout",
     "output_type": "stream",
     "text": [
      "   CustomerId  FirstName     LastName  \\\n",
      "0           1       Luís    Gonçalves   \n",
      "1           2     Leonie       Köhler   \n",
      "2           3   François     Tremblay   \n",
      "3           4      Bjørn       Hansen   \n",
      "4           5  František  Wichterlová   \n",
      "\n",
      "                                            Company  \\\n",
      "0  Embraer - Empresa Brasileira de Aeronáutica S.A.   \n",
      "1                                              None   \n",
      "2                                              None   \n",
      "3                                              None   \n",
      "4                                  JetBrains s.r.o.   \n",
      "\n",
      "                           Address                 City State         Country  \\\n",
      "0  Av. Brigadeiro Faria Lima, 2170  São José dos Campos    SP          Brazil   \n",
      "1          Theodor-Heuss-Straße 34            Stuttgart  None         Germany   \n",
      "2                1498 rue Bélanger             Montréal    QC          Canada   \n",
      "3                 Ullevålsveien 14                 Oslo  None          Norway   \n",
      "4                    Klanova 9/506               Prague  None  Czech Republic   \n",
      "\n",
      "  PostalCode               Phone                 Fax  \\\n",
      "0  12227-000  +55 (12) 3923-5555  +55 (12) 3923-5566   \n",
      "1      70174    +49 0711 2842222                None   \n",
      "2    H2G 1A7   +1 (514) 721-4711                None   \n",
      "3       0171     +47 22 44 22 22                None   \n",
      "4      14700    +420 2 4172 5555    +420 2 4172 5555   \n",
      "\n",
      "                      Email  SupportRepId  \n",
      "0      luisg@embraer.com.br             3  \n",
      "1     leonekohler@surfeu.de             5  \n",
      "2       ftremblay@gmail.com             3  \n",
      "3     bjorn.hansen@yahoo.no             4  \n",
      "4  frantisekw@jetbrains.com             4  \n"
     ]
    }
   ],
   "source": [
    "\n",
    "query = \"SELECT * FROM Customer LIMIT 5;\"\n",
    "df = pd.read_sql_query(query, conn)\n",
    "print(df)\n"
   ]
  },
  {
   "cell_type": "markdown",
   "id": "b5f7a974",
   "metadata": {},
   "source": [
    "# 2. Sales Analysis"
   ]
  },
  {
   "cell_type": "markdown",
   "id": "cb27ab62",
   "metadata": {},
   "source": [
    "## Q3: Write a query to find the total sales per country. Order the results by the highest sales first."
   ]
  },
  {
   "cell_type": "code",
   "execution_count": null,
   "id": "41da823c",
   "metadata": {},
   "outputs": [
    {
     "name": "stdout",
     "output_type": "stream",
     "text": [
      "           Country  TotalSales\n",
      "0              USA      523.06\n",
      "1           Canada      303.96\n",
      "2           France      195.10\n",
      "3           Brazil      190.10\n",
      "4          Germany      156.48\n",
      "5   United Kingdom      112.86\n",
      "6   Czech Republic       90.24\n",
      "7         Portugal       77.24\n",
      "8            India       75.26\n",
      "9            Chile       46.62\n",
      "10         Ireland       45.62\n",
      "11         Hungary       45.62\n",
      "12         Austria       42.62\n",
      "13         Finland       41.62\n",
      "14     Netherlands       40.62\n",
      "15          Norway       39.62\n",
      "16          Sweden       38.62\n",
      "17           Spain       37.62\n",
      "18          Poland       37.62\n",
      "19           Italy       37.62\n",
      "20         Denmark       37.62\n",
      "21         Belgium       37.62\n",
      "22       Australia       37.62\n",
      "23       Argentina       37.62\n"
     ]
    }
   ],
   "source": [
    "query = \"\"\"\n",
    "SELECT BillingCountry AS Country, SUM(Total) AS TotalSales\n",
    "FROM Invoice\n",
    "GROUP BY BillingCountry\n",
    "ORDER BY TotalSales DESC;\n",
    "\"\"\"\n",
    "df = pd.read_sql_query(query, conn)\n",
    "print(df)\n"
   ]
  },
  {
   "cell_type": "markdown",
   "id": "8d16c05b",
   "metadata": {},
   "source": [
    "## Q4: Find the top 5 customers by total purchase amount. Display their full name and total amount."
   ]
  },
  {
   "cell_type": "code",
   "execution_count": null,
   "id": "1de6e539",
   "metadata": {},
   "outputs": [
    {
     "name": "stdout",
     "output_type": "stream",
     "text": [
      "             FullName  TotalAmount\n",
      "0         Helena Holý        49.62\n",
      "1  Richard Cunningham        47.62\n",
      "2          Luis Rojas        46.62\n",
      "3     Ladislav Kovács        45.62\n",
      "4       Hugh O'Reilly        45.62\n"
     ]
    }
   ],
   "source": [
    "\n",
    "query = \"\"\"\n",
    "SELECT FirstName || ' ' || LastName AS FullName, SUM(Total) AS TotalAmount\n",
    "FROM Customer\n",
    "JOIN Invoice ON Customer.CustomerId = Invoice.CustomerId\n",
    "GROUP BY Customer.CustomerId\n",
    "ORDER BY TotalAmount DESC\n",
    "LIMIT 5;\n",
    "\"\"\"\n",
    "df = pd.read_sql_query(query, conn)\n",
    "print(df)\n"
   ]
  },
  {
   "cell_type": "markdown",
   "id": "fa2db14e",
   "metadata": {},
   "source": [
    "## Q5: Which genres are most purchased? Show the genre name and the number of purchases.\n",
    " "
   ]
  },
  {
   "cell_type": "code",
   "execution_count": null,
   "id": "4ab8c621",
   "metadata": {},
   "outputs": [
    {
     "name": "stdout",
     "output_type": "stream",
     "text": [
      "             GenreName  PurchaseCount\n",
      "0                 Rock            835\n",
      "1                Latin            386\n",
      "2                Metal            264\n",
      "3   Alternative & Punk            244\n",
      "4                 Jazz             80\n",
      "5                Blues             61\n",
      "6             TV Shows             47\n",
      "7            Classical             41\n",
      "8             R&B/Soul             41\n",
      "9               Reggae             30\n",
      "10               Drama             29\n",
      "11                 Pop             28\n",
      "12    Sci Fi & Fantasy             20\n",
      "13          Soundtrack             20\n",
      "14         Hip Hop/Rap             17\n",
      "15          Bossa Nova             15\n",
      "16         Alternative             14\n",
      "17               World             13\n",
      "18   Electronica/Dance             12\n",
      "19         Heavy Metal             12\n",
      "20      Easy Listening             10\n",
      "21              Comedy              9\n",
      "22     Science Fiction              6\n",
      "23       Rock And Roll              6\n"
     ]
    }
   ],
   "source": [
    "\n",
    "query = \"\"\"\n",
    "SELECT Genre.Name AS GenreName, COUNT(*) AS PurchaseCount\n",
    "FROM InvoiceLine\n",
    "JOIN Track ON InvoiceLine.TrackId = Track.TrackId\n",
    "JOIN Genre ON Track.GenreId = Genre.GenreId\n",
    "GROUP BY Genre.GenreId\n",
    "ORDER BY PurchaseCount DESC;\n",
    "\"\"\"\n",
    "df = pd.read_sql_query(query, conn)\n",
    "print(df)\n"
   ]
  },
  {
   "cell_type": "markdown",
   "id": "73d328d4",
   "metadata": {},
   "source": [
    "# 3. Employee & Customer Insights"
   ]
  },
  {
   "cell_type": "markdown",
   "id": "57339c70",
   "metadata": {},
   "source": [
    "## Q6: For each sales agent, show how many customers they manage and the total sales made by those customers."
   ]
  },
  {
   "cell_type": "code",
   "execution_count": null,
   "id": "e5088bb3",
   "metadata": {},
   "outputs": [
    {
     "name": "stdout",
     "output_type": "stream",
     "text": [
      "      SalesAgent  CustomersManaged  TotalSales\n",
      "0   Jane Peacock                21      833.04\n",
      "1  Margaret Park                20      775.40\n",
      "2  Steve Johnson                18      720.16\n"
     ]
    }
   ],
   "source": [
    "\n",
    "query = \"\"\"\n",
    "SELECT e.FirstName || ' ' || e.LastName AS SalesAgent,\n",
    "       COUNT(DISTINCT c.CustomerId) AS CustomersManaged,\n",
    "       ROUND(SUM(i.Total), 2) AS TotalSales\n",
    "FROM Employee e\n",
    "JOIN Customer c ON e.EmployeeId = c.SupportRepId\n",
    "JOIN Invoice i ON c.CustomerId = i.CustomerId\n",
    "WHERE e.Title = 'Sales Support Agent'\n",
    "GROUP BY e.EmployeeId;\n",
    "\"\"\"\n",
    "df = pd.read_sql_query(query, conn)\n",
    "print(df)\n"
   ]
  },
  {
   "cell_type": "markdown",
   "id": "0337b374",
   "metadata": {},
   "source": [
    "## Q7: List the names of customers who have not made any purchases."
   ]
  },
  {
   "cell_type": "code",
   "execution_count": null,
   "id": "e4b21e7d",
   "metadata": {},
   "outputs": [
    {
     "name": "stdout",
     "output_type": "stream",
     "text": [
      "Empty DataFrame\n",
      "Columns: [CustomerName]\n",
      "Index: []\n"
     ]
    }
   ],
   "source": [
    "\n",
    "query = \"\"\"\n",
    "SELECT FirstName || ' ' || LastName AS CustomerName\n",
    "FROM Customer\n",
    "WHERE CustomerId NOT IN (\n",
    "    SELECT DISTINCT CustomerId FROM Invoice\n",
    ");\n",
    "\"\"\"\n",
    "df = pd.read_sql_query(query, conn)\n",
    "print(df)\n"
   ]
  },
  {
   "cell_type": "markdown",
   "id": "6b241cbb",
   "metadata": {},
   "source": [
    "# 4. Advanced Querying"
   ]
  },
  {
   "cell_type": "markdown",
   "id": "0e02bb90",
   "metadata": {},
   "source": [
    "## Q8: Write a query that returns the top 3 albums that generated the most revenue. Show album title and revenue"
   ]
  },
  {
   "cell_type": "code",
   "execution_count": null,
   "id": "86c29884",
   "metadata": {},
   "outputs": [
    {
     "name": "stdout",
     "output_type": "stream",
     "text": [
      "                                      Title  Revenue\n",
      "0  Battlestar Galactica (Classic), Season 1    35.82\n",
      "1                      The Office, Season 3    31.84\n",
      "2                            Minha Historia    26.73\n"
     ]
    }
   ],
   "source": [
    "\n",
    "query = \"\"\"\n",
    "SELECT Album.Title,\n",
    "       ROUND(SUM(InvoiceLine.UnitPrice * InvoiceLine.Quantity), 2) AS Revenue\n",
    "FROM InvoiceLine\n",
    "JOIN Track ON InvoiceLine.TrackId = Track.TrackId\n",
    "JOIN Album ON Track.AlbumId = Album.AlbumId\n",
    "GROUP BY Album.AlbumId\n",
    "ORDER BY Revenue DESC\n",
    "LIMIT 3;\n",
    "\"\"\"\n",
    "df = pd.read_sql_query(query, conn)\n",
    "print(df)\n"
   ]
  },
  {
   "cell_type": "markdown",
   "id": "77698098",
   "metadata": {},
   "source": [
    "## Q9: Find the average invoice total per customer and sort by the highest averages."
   ]
  },
  {
   "cell_type": "code",
   "execution_count": null,
   "id": "fcc23f12",
   "metadata": {},
   "outputs": [
    {
     "name": "stdout",
     "output_type": "stream",
     "text": [
      "             CustomerName  AvgInvoiceTotal\n",
      "0             Helena Holý             7.09\n",
      "1      Richard Cunningham             6.80\n",
      "2              Luis Rojas             6.66\n",
      "3         Ladislav Kovács             6.52\n",
      "4           Hugh O'Reilly             6.52\n",
      "5           Frank Ralston             6.23\n",
      "6           Julia Barnett             6.23\n",
      "7         Fynn Zimmermann             6.23\n",
      "8         Puja Srivastava             6.11\n",
      "9           Astrid Gruber             6.09\n",
      "10         Victor Stevens             6.09\n",
      "11       Terhi Hämäläinen             5.95\n",
      "12  František Wichterlová             5.80\n",
      "13       Isabelle Mercier             5.80\n",
      "14  Johannes Van der Berg             5.80\n",
      "15         Luís Gonçalves             5.66\n",
      "16      François Tremblay             5.66\n",
      "17           Bjørn Hansen             5.66\n",
      "18             Jack Smith             5.66\n",
      "19             Dan Miller             5.66\n",
      "20        Heather Leacock             5.66\n",
      "21         João Fernandes             5.66\n",
      "22           Wyatt Girard             5.66\n",
      "23      Jennifer Peterson             5.52\n",
      "24              Tim Goyer             5.52\n",
      "25        Camille Bernard             5.52\n",
      "26     Dominique Lefebvre             5.52\n",
      "27       Joakim Johansson             5.52\n",
      "28           Manoj Pareek             5.52\n",
      "29          Leonie Köhler             5.37\n",
      "30           Daan Peeters             5.37\n",
      "31           Kara Nielsen             5.37\n",
      "32        Eduardo Martins             5.37\n",
      "33        Alexandre Rocha             5.37\n",
      "34        Roberto Almeida             5.37\n",
      "35         Fernanda Ramos             5.37\n",
      "36           Mark Philips             5.37\n",
      "37           Frank Harris             5.37\n",
      "38        Michelle Brooks             5.37\n",
      "39            Kathy Chase             5.37\n",
      "40            John Gordon             5.37\n",
      "41           Patrick Gray             5.37\n",
      "42           Robert Brown             5.37\n",
      "43         Edward Francis             5.37\n",
      "44            Martha Silk             5.37\n",
      "45         Aaron Mitchell             5.37\n",
      "46         Ellie Sullivan             5.37\n",
      "47       Madalena Sampaio             5.37\n",
      "48       Hannah Schneider             5.37\n",
      "49        Niklas Schröder             5.37\n",
      "50            Marc Dubois             5.37\n",
      "51          Lucas Mancini             5.37\n",
      "52       Stanisław Wójcik             5.37\n",
      "53          Enrique Muñoz             5.37\n",
      "54             Emma Jones             5.37\n",
      "55            Phil Hughes             5.37\n",
      "56           Steve Murray             5.37\n",
      "57            Mark Taylor             5.37\n",
      "58        Diego Gutiérrez             5.37\n"
     ]
    }
   ],
   "source": [
    "\n",
    "query = \"\"\"\n",
    "SELECT FirstName || ' ' || LastName AS CustomerName,\n",
    "       ROUND(AVG(Total), 2) AS AvgInvoiceTotal\n",
    "FROM Customer\n",
    "JOIN Invoice ON Customer.CustomerId = Invoice.CustomerId\n",
    "GROUP BY Customer.CustomerId\n",
    "ORDER BY AvgInvoiceTotal DESC;\n",
    "\"\"\"\n",
    "df = pd.read_sql_query(query, conn)\n",
    "print(df)\n"
   ]
  }
 ],
 "metadata": {
  "kernelspec": {
   "display_name": "Python 3",
   "language": "python",
   "name": "python3"
  },
  "language_info": {
   "codemirror_mode": {
    "name": "ipython",
    "version": 3
   },
   "file_extension": ".py",
   "mimetype": "text/x-python",
   "name": "python",
   "nbconvert_exporter": "python",
   "pygments_lexer": "ipython3",
   "version": "3.13.3"
  }
 },
 "nbformat": 4,
 "nbformat_minor": 5
}
